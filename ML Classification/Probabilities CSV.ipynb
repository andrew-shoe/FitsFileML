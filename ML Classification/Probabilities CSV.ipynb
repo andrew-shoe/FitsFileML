{
 "cells": [
  {
   "cell_type": "markdown",
   "metadata": {},
   "source": [
    "## Import Statements"
   ]
  },
  {
   "cell_type": "code",
   "execution_count": 1,
   "metadata": {
    "collapsed": true
   },
   "outputs": [],
   "source": [
    "import os\n",
    "import fitsio as fio\n",
    "import glob\n",
    "import csv\n",
    "import pandas as pd\n",
    "import numpy as np\n",
    "import sklearn\n",
    "import cPickle as pickle\n",
    "import matplotlib.pyplot as plt\n",
    "import random\n",
    "\n",
    "\n",
    "from mpl_toolkits.mplot3d import Axes3D\n",
    "from nltk.classify import PositiveNaiveBayesClassifier\n",
    "\n",
    "from __future__ import division"
   ]
  },
  {
   "cell_type": "code",
   "execution_count": 2,
   "metadata": {
    "collapsed": true
   },
   "outputs": [],
   "source": [
    "result = []\n",
    "fits_data_loc = \"/Users/mulan/desktop/fits_data/\"\n",
    "wrong_label = []\n",
    "error = []\n",
    "\n",
    "def plot_name(x):\n",
    "    \"\"\" Plot ON/OFF pair by name. \"\"\"\n",
    "    on_plt = fio.read(fits_data_loc + x + \".fits\")\n",
    "    off_plt = fio.read(fits_data_loc + x + \"_OFF.fits\")\n",
    "    vmax = max([np.max(on_plt), np.max(off_plt)])\n",
    "    vmin = min([np.min(on_plt), np.min(off_plt)])\n",
    "    f, (ax1, ax2) = plt.subplots(1, 2, figsize=(12,4), sharex=True, sharey=True)\n",
    "    ax1.imshow(on_plt, aspect=15, vmax=vmax, vmin=vmin, cmap = \"viridis\")\n",
    "    ax1.set_adjustable('box-forced')\n",
    "    ax1.set_title('ON image')\n",
    "    ax2.imshow(off_plt, aspect=15, vmax=vmax, vmin=vmin, cmap = \"viridis\")\n",
    "    ax2.set_adjustable('box-forced')\n",
    "    ax2.set_title('OFF image')\n",
    "    f.suptitle(x) \n",
    "    plt.show()"
   ]
  },
  {
   "cell_type": "code",
   "execution_count": 3,
   "metadata": {},
   "outputs": [
    {
     "name": "stdout",
     "output_type": "stream",
     "text": [
      "['001_labels.csv', '003_labels.csv', '004_labels.csv', '005_labels.csv', '006_labels.csv', '008_labels.csv', '025_labels.csv', '026_labels.csv', '043_labels.csv', '048_labels.csv', '049_labels.csv', '058_labels.csv', '090_labels.csv', '098_labels.csv', '117_labels.csv', '120_labels.csv', '121_labels.csv', '125_labels.csv', '133_labels.csv', '137_labels.csv', '138_labels.csv', '140_labels.csv', '143_labels.csv', '145_labels.csv', '156_labels.csv', '158_labels.csv', '168_labels.csv', '177_labels.csv', '180_labels.csv', '181_labels.csv', '182_labels.csv', '184_labels.csv', '185_labels.csv', '186_labels.csv']\n",
      "\n"
     ]
    }
   ],
   "source": [
    "# This gets all the files which I've labelled.\n",
    "\n",
    "path = 'c:\\\\'\n",
    "extension = 'csv'\n",
    "result = []\n",
    "files = [\"{0:03}\".format(i) for i in range(190)]\n",
    "files.remove('000')\n",
    "\n",
    "for x in files:\n",
    "    os.chdir(\"/Users/mulan/fits_label/\" + x)\n",
    "    if glob.glob('*.{}'.format(extension)):\n",
    "        a = (glob.glob('*.{}'.format(extension)))[0]\n",
    "        result.append(a)\n",
    "    \n",
    "print(result)\n",
    "print(\"\")"
   ]
  },
  {
   "cell_type": "code",
   "execution_count": 4,
   "metadata": {
    "collapsed": true
   },
   "outputs": [],
   "source": [
    "result_files = []\n",
    "for x in result:\n",
    "    a = os.listdir(\"/Users/mulan/fits_label/\" + x[:3] + \"/\")\n",
    "    a = [x for x in a if x[-4:] == 'fits']\n",
    "    result_files.extend(a)"
   ]
  },
  {
   "cell_type": "code",
   "execution_count": 5,
   "metadata": {
    "collapsed": true
   },
   "outputs": [],
   "source": [
    "os.chdir('/Users/mulan/breakthrough/bl-interns/mulanxia')\n",
    "\n",
    "with open('labelled_files.npy', 'wb') as outfile:\n",
    "    pickle.dump(result_files, outfile, protocol=pickle.HIGHEST_PROTOCOL)"
   ]
  },
  {
   "cell_type": "code",
   "execution_count": 6,
   "metadata": {},
   "outputs": [
    {
     "name": "stdout",
     "output_type": "stream",
     "text": [
      "34 folders have been labelled so far.\n",
      "17000 files have been labelled so far.\n"
     ]
    }
   ],
   "source": [
    "d = {}\n",
    "for x in range(len(result)):\n",
    "    with open(\"/Users/mulan/fits_label/\" + result[x][:3] + \"/\" + result[x]) as csvfile:\n",
    "        readCSV = csv.reader(csvfile, delimiter=',')\n",
    "        next(readCSV)\n",
    "        for row in readCSV:\n",
    "            file_name = (row[0][28:])\n",
    "            category = row[1]\n",
    "            d[file_name] = category\n",
    "            \n",
    "print(str(len(result)) + \" folders have been labelled so far.\")\n",
    "print(str(len(d)) + \" files have been labelled so far.\")"
   ]
  },
  {
   "cell_type": "code",
   "execution_count": 7,
   "metadata": {
    "collapsed": true
   },
   "outputs": [],
   "source": [
    "n_diagonal_1 = []\n",
    "n_diagonal_1p = []\n",
    "n_horizontal = []\n",
    "n_vertical_1 = []\n",
    "n_vertical_even = []\n",
    "n_vertical_inf = []\n",
    "\n",
    "w_diagonal_1 = []\n",
    "w_diagonal_1p = []\n",
    "w_horizontal = []\n",
    "w_vertical_1 = []\n",
    "w_vertical_even = []\n",
    "w_vertical_inf = []\n",
    "\n",
    "no_sig = []\n",
    "comb = []\n",
    "soi = []\n",
    "\n",
    "for name, cat in d.items():\n",
    "    if cat == '0':\n",
    "        n_diagonal_1.append(name)\n",
    "    elif cat == '1':\n",
    "        n_diagonal_1p.append(name)\n",
    "    elif cat == '2':\n",
    "        n_horizontal.append(name)\n",
    "    elif cat == '3':\n",
    "        n_vertical_1.append(name)\n",
    "    elif cat == '4':\n",
    "        n_vertical_even.append(name)\n",
    "    elif cat == '5':\n",
    "        n_vertical_inf.append(name)\n",
    "    elif cat == '6':\n",
    "        w_diagonal_1.append(name)\n",
    "    elif cat == '7':\n",
    "        w_diagonal_1p.append(name)\n",
    "    elif cat == '8':\n",
    "        w_horizontal.append(name)\n",
    "    elif cat == '9':\n",
    "        w_vertical_1.append(name)\n",
    "    elif cat == '10':\n",
    "        w_vertical_even.append(name)\n",
    "    elif cat == '11':\n",
    "        w_vertical_inf.append(name)\n",
    "    elif cat == '12':\n",
    "        no_sig.append(name)\n",
    "    elif cat == '13':\n",
    "        comb.append(name)\n",
    "    elif cat == '14':\n",
    "        soi.append(name)\n"
   ]
  },
  {
   "cell_type": "code",
   "execution_count": 8,
   "metadata": {},
   "outputs": [
    {
     "name": "stdout",
     "output_type": "stream",
     "text": [
      "0: Narrow Diagonal Signal (1): 1835 / Percentage: 10.7941176471%\n",
      "1: Narrow Diagonal Signal (1+): 564 / Percentage: 3.31764705882%\n",
      "2: Narrow Horizontal Signal: 334 / Percentage: 1.96470588235%\n",
      "3: Narrow Vertical Signal (1): 379 / Percentage: 2.22941176471%\n",
      "4: Narrow Vertical Signal (even): 5072 / Percentage: 29.8352941176%\n",
      "5: Narrow Vertical Signal (inf): 2619 / Percentage: 15.4058823529%\n",
      "6: Wide Diagonal Signal (1): 2434 / Percentage: 14.3176470588%\n",
      "7: Wide Diagonal Signal (1+): 2311 / Percentage: 13.5941176471%\n",
      "8: Wide Horizontal Signal: 18 / Percentage: 0.105882352941%\n",
      "9: Wide Vertical Signal (1): 4 / Percentage: 0.0235294117647%\n",
      "10: Wide Vertical Signal (even): 2 / Percentage: 0.0117647058824%\n",
      "11: Wide Vertical Signal (inf): 0 / Percentage: 0.0%\n",
      "12: No Signal: 339 / Percentage: 1.99411764706%\n",
      "13: Combination Signal: 1084 / Percentage: 6.37647058824%\n",
      "14: Signal of Interest: 5 / Percentage: 0.0294117647059%\n"
     ]
    },
    {
     "data": {
      "image/png": "[encoded data removed]",
      "text/plain": [
       "<matplotlib.figure.Figure at 0x112c69310>"
      ]
     },
     "metadata": {},
     "output_type": "display_data"
    }
   ],
   "source": [
    "categories = [\"Narrow Diagonal Signal (1)\", \"Narrow Diagonal Signal (1+)\", \"Narrow Horizontal Signal\",\n",
    "              \"Narrow Vertical Signal (1)\", \"Narrow Vertical Signal (even)\", \"Narrow Vertical Signal (inf)\",\n",
    "              \"Wide Diagonal Signal (1)\", \"Wide Diagonal Signal (1+)\", \"Wide Horizontal Signal\",\n",
    "              \"Wide Vertical Signal (1)\", \"Wide Vertical Signal (even)\", \"Wide Vertical Signal (inf)\",\n",
    "              \"No Signal\", \"Combination Signal\", \"Signal of Interest\"]\n",
    "\n",
    "calculation = [len(n_diagonal_1), len(n_diagonal_1p), len(n_horizontal), len(n_vertical_1), len(n_vertical_even),\n",
    "              len(n_vertical_inf), len(w_diagonal_1), len(w_diagonal_1p), len(w_horizontal), len(w_vertical_1), \n",
    "              len(w_vertical_even), len(w_vertical_inf), len(no_sig), len(comb), len(soi)]\n",
    "\n",
    "for x in range(len(categories)):\n",
    "    print(str(x) + \": \" + categories[x] + \": \" + str(calculation[x]) + \" / Percentage: \" + str(calculation[x] / len(d) * 100) + \"%\")\n",
    "plt.bar(range(15), calculation)\n",
    "plt.show()"
   ]
  }
 ],
 "metadata": {
  "kernelspec": {
   "display_name": "Python 2",
   "language": "python",
   "name": "python2"
  },
  "language_info": {
   "codemirror_mode": {
    "name": "ipython",
    "version": 2
   },
   "file_extension": ".py",
   "mimetype": "text/x-python",
   "name": "python",
   "nbconvert_exporter": "python",
   "pygments_lexer": "ipython2",
   "version": "2.7.13"
  }
 },
 "nbformat": 4,
 "nbformat_minor": 2
}
