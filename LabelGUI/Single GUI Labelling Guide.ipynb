{
 "cells": [
  {
   "cell_type": "markdown",
   "metadata": {},
   "source": [
    "# Guide to Labelling Fits Files\n",
    "<img src=\"GUIguide1.png\">"
   ]
  },
  {
   "cell_type": "markdown",
   "metadata": {},
   "source": [
    "# Preface\n",
    "- The goal of this GUI is to classify individual signals based on their shape\n",
    "- There are 15 categories, each of which will be explained more in depth below\n",
    "- Each folder to label consists of 500 different fits files; labelling should take approximately 10-15 minutes\n",
    "- On the screen, you will be shown two versions of the same files; the top image is what you should be basing the majority of your classification on; the bottom image amplifies the signal (you will see stronger/more signals) and should just be used in the case that you are not sure of how to classify based on the top image\n",
    "- **undo** button does NOT currently work; please don’t use\n",
    "- If you make significant errors, please go into the folder of labels, delete the labels **csv** file and restart (sorry!)\n",
    "- A lot of the classification is based on your own judgement - i.e. a single strong diagonal signal + a very weak straight signal could be classified as either combination or just strong diagonal - don't stress too much"
   ]
  },
  {
   "cell_type": "markdown",
   "metadata": {},
   "source": [
    "## Instructions\n",
    "1. Git pull the folder label_files (located in bl-interns)\n",
    "2. Select a (or several) folders from label_files to label and remove the file from the folder (git push the changes!)\n",
    "3. Run python fits_single_GUI\\ .py\n",
    "4. Click Load Project\n",
    "5. Navigate into folder containing signals\n",
    "6. Click Choose\n",
    "7. Classify\n",
    "  1. First, is it a narrow or wide signal (or other)?\n",
    "  2. Then classify based on shape\n",
    "<br>\n",
    "**Note:** Instead of clicking each individual label, you can use the corresponding keys on the keyboard (in square brackets)\n",
    "8. Slack Mulan and/or Andrew the csv files!\n"
   ]
  },
  {
   "cell_type": "markdown",
   "metadata": {},
   "source": [
    "## Classification\n",
    "### Narrow Signals\n",
    "-------------------\n",
    "#### Diagonal (1)\n",
    "- Skinny, strong, singular diagonal signal"
   ]
  },
  {
   "cell_type": "markdown",
   "metadata": {},
   "source": [
    "<img src=\"GUI guide 2.png\">"
   ]
  },
  {
   "cell_type": "markdown",
   "metadata": {},
   "source": [
    "### Diagonal (1+)\n",
    "- Multiple skinny, strong, diagonal signals"
   ]
  },
  {
   "cell_type": "markdown",
   "metadata": {},
   "source": [
    "### Horizontal\n",
    "- Thin, narrow signal that may stretch across the whole screen, or just a portion of the screen\n",
    "- Also includes multiple narrow signals that stretch across the screen"
   ]
  },
  {
   "cell_type": "markdown",
   "metadata": {},
   "source": [
    "<img src=\"GUI guide 3.png\">"
   ]
  },
  {
   "cell_type": "markdown",
   "metadata": {},
   "source": [
    "### Vertical (1)\n",
    "- Single, strong vertical signal\n",
    "- May be squiggly, but overall shape is straight"
   ]
  },
  {
   "cell_type": "markdown",
   "metadata": {},
   "source": [
    "<img src=\"GUI guide 4.png\">"
   ]
  },
  {
   "cell_type": "markdown",
   "metadata": {},
   "source": [
    "<img src=\"GUI guide 5.png\">"
   ]
  },
  {
   "cell_type": "markdown",
   "metadata": {},
   "source": [
    "### Vertical (even)\n",
    "- Several to many vertical lines, medium gap between them, all spaced out evenly\n",
    "- May have double lines"
   ]
  },
  {
   "cell_type": "markdown",
   "metadata": {},
   "source": [
    "<img src=\"GUI guide 6.png\">\n",
    "<img src=\"GUI guide 7.png\">"
   ]
  },
  {
   "cell_type": "markdown",
   "metadata": {},
   "source": [
    "### Vertical (inf)\n",
    "- Many vertical lines, little space between them"
   ]
  },
  {
   "cell_type": "markdown",
   "metadata": {},
   "source": [
    "<img src=\"GUI guide 8.png\">"
   ]
  },
  {
   "cell_type": "markdown",
   "metadata": {},
   "source": [
    "### Wide Signals\n",
    "-------------------\n",
    "#### Diagonal (1)\n",
    "- Single, strong diagonal signal"
   ]
  },
  {
   "cell_type": "markdown",
   "metadata": {},
   "source": [
    "<img src=\"GUI guide 9.png\">"
   ]
  },
  {
   "cell_type": "markdown",
   "metadata": {},
   "source": [
    "### Diagonal (1+)\n",
    "- Generally a wishbone like structure of 2 diagonal signals or 2 parallel strong diagonal signals"
   ]
  },
  {
   "cell_type": "markdown",
   "metadata": {},
   "source": [
    "<img src=\"GUI guide 10.png\">\n",
    "<img src=\"GUI guide 15.png\">"
   ]
  },
  {
   "cell_type": "markdown",
   "metadata": {},
   "source": [
    "### Horizontal\n",
    "- Wide horizontal signal that may stretch across the whole screen, or just a portion of the screen; seems to be one signal rather than multiple singular horizontal signals clumped together"
   ]
  },
  {
   "cell_type": "markdown",
   "metadata": {},
   "source": [
    "<img src=\"GUI guide 11.png\">"
   ]
  },
  {
   "cell_type": "markdown",
   "metadata": {},
   "source": [
    "### Vertical (1)\n",
    "- May be slightly squiggly, but overall goes down straight"
   ]
  },
  {
   "cell_type": "markdown",
   "metadata": {},
   "source": [
    "<img src=\"GUI guide 12.png\">"
   ]
  },
  {
   "cell_type": "markdown",
   "metadata": {},
   "source": [
    "### Vertical (even)"
   ]
  },
  {
   "cell_type": "markdown",
   "metadata": {},
   "source": [
    "### Vertical (inf)"
   ]
  },
  {
   "cell_type": "markdown",
   "metadata": {},
   "source": [
    "### No Signal\n",
    "- All noise, so may appear all green, or all dark blue"
   ]
  },
  {
   "cell_type": "markdown",
   "metadata": {},
   "source": [
    "<img src=\"GUI guide 13.png\">"
   ]
  },
  {
   "cell_type": "markdown",
   "metadata": {},
   "source": [
    "### Combination\n",
    "- Combination of signals (ie. straight and diagonal); signals are all relatively strong"
   ]
  },
  {
   "cell_type": "markdown",
   "metadata": {},
   "source": [
    "<img src=\"GUI guide 14.png\">"
   ]
  },
  {
   "cell_type": "markdown",
   "metadata": {},
   "source": [
    "### SOI\n",
    "- A signal that does not fall into any of the above categories\n",
    "- Something you think looks interesting!"
   ]
  }
 ],
 "metadata": {
  "kernelspec": {
   "display_name": "Python 2",
   "language": "python",
   "name": "python2"
  },
  "language_info": {
   "codemirror_mode": {
    "name": "ipython",
    "version": 2
   },
   "file_extension": ".py",
   "mimetype": "text/x-python",
   "name": "python",
   "nbconvert_exporter": "python",
   "pygments_lexer": "ipython2",
   "version": "2.7.13"
  }
 },
 "nbformat": 4,
 "nbformat_minor": 2
}
